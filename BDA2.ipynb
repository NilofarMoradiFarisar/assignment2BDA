{
 "cells": [
  {
   "cell_type": "code",
   "execution_count": 118,
   "id": "e4f6148d-3436-485d-a756-8ce176518fb0",
   "metadata": {},
   "outputs": [],
   "source": [
    "import csv"
   ]
  },
  {
   "cell_type": "code",
   "execution_count": 119,
   "id": "e444fcf4-2a4c-4b53-bbcb-ac4876560dbf",
   "metadata": {},
   "outputs": [],
   "source": [
    "from collections import defaultdict"
   ]
  },
  {
   "cell_type": "code",
   "execution_count": 129,
   "id": "b46bfddd-b452-4123-bfe9-fc5c13bcc21f",
   "metadata": {},
   "outputs": [],
   "source": [
    "def extract_given_surname(name):\n",
    "    parts = name.split()\n",
    "    if(len(parts)==0):\n",
    "        return \"\",\"\"\n",
    "    given_name = parts[0]\n",
    "    surname = parts[-1]\n",
    "    return given_name, surname\n",
    "\n",
    "def compute_blocks(strategy, pairs):\n",
    "    blocks = defaultdict(list)\n",
    "    for pair in pairs:\n",
    "        \n",
    "        if(len(pair)==3):\n",
    "            old_name, new_name,random = pair\n",
    "                \n",
    "        else:\n",
    "            old_name, new_name = pair\n",
    "        if strategy == 's1':\n",
    "            given_name, test = extract_given_surname(old_name)\n",
    "        elif strategy == 's2':\n",
    "            test, surname = extract_given_surname(old_name)\n",
    "            given_name = surname\n",
    "           \n",
    "        blocks[given_name].append(pair)\n",
    "\n",
    "    \n",
    "    return blocks\n",
    "\n",
    "def compute_evaluation_measures(blocks, pairs):\n",
    "    grouped_pairs = set()\n",
    "    saved_computations = 0\n",
    "    for block in blocks.values():\n",
    "        saved_computations += sum(len(pair) * (len(pair) - 1) // 2 for pair in block)\n",
    "        for pair in block:\n",
    "            grouped_pairs.add(tuple(pair))\n",
    "\n",
    "    recall = len(grouped_pairs) / len(pairs)\n",
    "    return recall, saved_computations\n",
    "\n",
    "def evaluate_blocking_strategy(strategy, pairs):\n",
    "    blocks = compute_blocks(strategy, pairs)\n",
    "    print(\"block len:\"+strategy+\" = \"+str(len(blocks)))\n",
    "    recall, saved_computations = compute_evaluation_measures(blocks, pairs)\n",
    "    return recall, saved_computations\n",
    "\n"
   ]
  },
  {
   "cell_type": "code",
   "execution_count": 130,
   "id": "cac9fd23-89b4-4840-bb3f-726f050fe0c6",
   "metadata": {},
   "outputs": [
    {
     "name": "stdout",
     "output_type": "stream",
     "text": [
      "45176\n"
     ]
    }
   ],
   "source": [
    "# Load pairs from CSV\n",
    "pairs = []\n",
    "with open('/Users/shivangsinha/dblp_names.csv', 'r') as csvfile:\n",
    "    reader = csv.reader(csvfile)\n",
    "    count=0\n",
    "\n",
    "    for row in reader:\n",
    "        if count==0:\n",
    "            count+=1\n",
    "            continue\n",
    "        else:\n",
    "            pairs.append(row)\n",
    "print(len(pairs))"
   ]
  },
  {
   "cell_type": "code",
   "execution_count": null,
   "id": "0246c9ed-2b1f-4469-b899-d513520fe8ec",
   "metadata": {},
   "outputs": [],
   "source": []
  },
  {
   "cell_type": "code",
   "execution_count": 131,
   "id": "e6722bf1-85a3-44da-833c-1e8a58c11af1",
   "metadata": {},
   "outputs": [
    {
     "name": "stdout",
     "output_type": "stream",
     "text": [
      "block len:s1 = 12181\n",
      "block len:s2 = 25623\n",
      "Blocking Strategy s1:\n",
      "Recall: 1.0\n",
      "Saved Similarity Computations: 45216\n",
      "\n",
      "Blocking Strategy s2:\n",
      "Recall: 1.0\n",
      "Saved Similarity Computations: 45216\n"
     ]
    }
   ],
   "source": [
    "\n",
    "    \n",
    "recall_s1, saved_s1 = evaluate_blocking_strategy('s1', pairs)\n",
    "\n",
    "# Evaluate blocking strategy s2\n",
    "recall_s2, saved_s2 = evaluate_blocking_strategy('s2', pairs)\n",
    "\n",
    "# Print results\n",
    "print(\"Blocking Strategy s1:\")\n",
    "print(\"Recall:\", recall_s1)\n",
    "print(\"Saved Similarity Computations:\", saved_s1)\n",
    "\n",
    "print(\"\\nBlocking Strategy s2:\")\n",
    "print(\"Recall:\", recall_s2)\n",
    "print(\"Saved Similarity Computations:\", saved_s2)"
   ]
  },
  {
   "cell_type": "code",
   "execution_count": null,
   "id": "9c9b9874-a8b8-4627-bca9-52a6dc76a2de",
   "metadata": {},
   "outputs": [],
   "source": []
  },
  {
   "cell_type": "code",
   "execution_count": null,
   "id": "4f69b5f8-48ea-48cf-a05e-f9e45b30394f",
   "metadata": {},
   "outputs": [],
   "source": []
  },
  {
   "cell_type": "code",
   "execution_count": null,
   "id": "77f902a4-207c-4d25-9472-f4a71af78e8b",
   "metadata": {},
   "outputs": [],
   "source": []
  }
 ],
 "metadata": {
  "kernelspec": {
   "display_name": "Python 3 (ipykernel)",
   "language": "python",
   "name": "python3"
  },
  "language_info": {
   "codemirror_mode": {
    "name": "ipython",
    "version": 3
   },
   "file_extension": ".py",
   "mimetype": "text/x-python",
   "name": "python",
   "nbconvert_exporter": "python",
   "pygments_lexer": "ipython3",
   "version": "3.11.7"
  }
 },
 "nbformat": 4,
 "nbformat_minor": 5
}
