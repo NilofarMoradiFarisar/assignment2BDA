{
 "cells": [
  {
   "cell_type": "code",
   "execution_count": 8,
   "id": "0b136765",
   "metadata": {},
   "outputs": [],
   "source": [
    "# Assignment 2 of the course Big Data Analytics\n",
    "# Group 35\n",
    "# Nilofar Moradi Farisar\n",
    "# Aastha Shreya\n",
    "# Shivang Sinha"
   ]
  },
  {
   "cell_type": "code",
   "execution_count": 9,
   "id": "e4f6148d-3436-485d-a756-8ce176518fb0",
   "metadata": {},
   "outputs": [],
   "source": [
    "import csv"
   ]
  },
  {
   "cell_type": "code",
   "execution_count": 10,
   "id": "e444fcf4-2a4c-4b53-bbcb-ac4876560dbf",
   "metadata": {},
   "outputs": [],
   "source": [
    "from collections import defaultdict"
   ]
  },
  {
   "cell_type": "code",
   "execution_count": 11,
   "id": "b46bfddd-b452-4123-bfe9-fc5c13bcc21f",
   "metadata": {},
   "outputs": [],
   "source": [
    "def extract_given_surname(name):\n",
    "    parts = name.split()\n",
    "    if(len(parts)==0):\n",
    "        return \"\",\"\"\n",
    "    given_name = parts[0]\n",
    "    surname = parts[-1]\n",
    "    return given_name, surname\n",
    "\n",
    "def compute_blocks(strategy, pairs):\n",
    "    blocks = defaultdict(list)\n",
    "    for pair in pairs:\n",
    "        \n",
    "        if(len(pair)==3):\n",
    "            old_name, new_name,random = pair\n",
    "                \n",
    "        else:\n",
    "            old_name, new_name = pair\n",
    "        if strategy == 's1':\n",
    "            given_name, test = extract_given_surname(old_name)\n",
    "        elif strategy == 's2':\n",
    "            test, surname = extract_given_surname(old_name)\n",
    "            given_name = surname\n",
    "           \n",
    "        blocks[given_name].append(pair)\n",
    "\n",
    "    \n",
    "    return blocks\n",
    "\n",
    "def compute_evaluation_measures(blocks, pairs):\n",
    "    grouped_pairs = set()\n",
    "    saved_computations = 0\n",
    "    for block in blocks.values():\n",
    "        saved_computations += sum(len(pair) * (len(pair) - 1) // 2 for pair in block)\n",
    "        for pair in block:\n",
    "            grouped_pairs.add(tuple(pair))\n",
    "\n",
    "    recall = len(grouped_pairs) / len(pairs)\n",
    "    return recall, saved_computations\n",
    "\n",
    "def evaluate_blocking_strategy(strategy, pairs):\n",
    "    blocks = compute_blocks(strategy, pairs)\n",
    "    print(\"block len:\"+strategy+\" = \"+str(len(blocks)))\n",
    "    recall, saved_computations = compute_evaluation_measures(blocks, pairs)\n",
    "    return recall, saved_computations\n",
    "\n"
   ]
  },
  {
   "cell_type": "code",
   "execution_count": 12,
   "id": "cac9fd23-89b4-4840-bb3f-726f050fe0c6",
   "metadata": {},
   "outputs": [
    {
     "name": "stdout",
     "output_type": "stream",
     "text": [
      "45176\n"
     ]
    }
   ],
   "source": [
    "# Load pairs from CSV\n",
    "pairs = []\n",
    "with open(\"D://MSc NLP In Trier Universitat//Semester_1//Big Data Analytics//Assigment_2//dblp_names//dblp_names.csv\", encoding='utf-8', errors='ignore') as csvfile:\n",
    "    reader = csv.reader(csvfile)\n",
    "    count=0\n",
    "\n",
    "    for row in reader:\n",
    "        if count==0:\n",
    "            count+=1\n",
    "            continue\n",
    "        else:\n",
    "            pairs.append(row)\n",
    "print(len(pairs))"
   ]
  },
  {
   "cell_type": "code",
   "execution_count": 13,
   "id": "e6722bf1-85a3-44da-833c-1e8a58c11af1",
   "metadata": {},
   "outputs": [
    {
     "name": "stdout",
     "output_type": "stream",
     "text": [
      "block len:s1 = 12181\n",
      "block len:s2 = 25623\n",
      "Blocking Strategy s1:\n",
      "Recall: 1.0\n",
      "Saved Similarity Computations: 45216\n",
      "\n",
      "Blocking Strategy s2:\n",
      "Recall: 1.0\n",
      "Saved Similarity Computations: 45216\n"
     ]
    }
   ],
   "source": [
    "\n",
    "    \n",
    "recall_s1, saved_s1 = evaluate_blocking_strategy('s1', pairs)\n",
    "\n",
    "# Evaluate blocking strategy s2\n",
    "recall_s2, saved_s2 = evaluate_blocking_strategy('s2', pairs)\n",
    "\n",
    "# Print results\n",
    "print(\"Blocking Strategy s1:\")\n",
    "print(\"Recall:\", recall_s1)\n",
    "print(\"Saved Similarity Computations:\", saved_s1)\n",
    "\n",
    "print(\"\\nBlocking Strategy s2:\")\n",
    "print(\"Recall:\", recall_s2)\n",
    "print(\"Saved Similarity Computations:\", saved_s2)"
   ]
  }
 ],
 "metadata": {
  "kernelspec": {
   "display_name": "Pytorch GPU (Python 3.11)",
   "language": "python",
   "name": "pytorch-gpu-python-3-11"
  },
  "language_info": {
   "codemirror_mode": {
    "name": "ipython",
    "version": 3
   },
   "file_extension": ".py",
   "mimetype": "text/x-python",
   "name": "python",
   "nbconvert_exporter": "python",
   "pygments_lexer": "ipython3",
   "version": "3.11.6"
  }
 },
 "nbformat": 4,
 "nbformat_minor": 5
}
